{
  "cells": [
    {
      "cell_type": "markdown",
      "metadata": {
        "id": "view-in-github",
        "colab_type": "text"
      },
      "source": [
        "<a href=\"https://colab.research.google.com/github/Abhirami31/phyton-code/blob/main/project_NMp3_py.ipynb\" target=\"_parent\"><img src=\"https://colab.research.google.com/assets/colab-badge.svg\" alt=\"Open In Colab\"/></a>"
      ]
    },
    {
      "cell_type": "code",
      "execution_count": null,
      "metadata": {
        "id": "mFxKp3rrw-tt"
      },
      "outputs": [],
      "source": [
        "import numpy as np\n",
        "import pandas as pd\n",
        "import matplotlib.pyplot as plt\n",
        "import plotly.express as px\n",
        "import plotly.graph_objects as go\n",
        "import matplotlib.patches as mpatches\n",
        "from sklearn.model_selection import train_test_split\n",
        "from sklearn.impute import SimpleImputer\n",
        "from plotly.subplots import make_subplots\n",
        "from sklearn.preprocessing import StandardScaler\n",
        "import seaborn as sns\n",
        "import plotly.figure_factory as ff\n",
        "from plotly.colors import n_colors\n",
        "data=pd.read_csv('country_vaccinations.csv')\n",
        "print(data)\n",
        "matrix=data.values\n",
        "print (matrix)"
      ]
    },
    {
      "cell_type": "code",
      "execution_count": null,
      "metadata": {
        "id": "ZG0HKEJLF1cM"
      },
      "outputs": [],
      "source": [
        "print (data.info())"
      ]
    },
    {
      "cell_type": "code",
      "execution_count": null,
      "metadata": {
        "id": "LJTl3ctSH9T7"
      },
      "outputs": [],
      "source": [
        "data.isnull()"
      ]
    },
    {
      "cell_type": "code",
      "execution_count": null,
      "metadata": {
        "id": "gzvNA7oGI5Gw"
      },
      "outputs": [],
      "source": [
        "data.isnull().sum()\n"
      ]
    },
    {
      "cell_type": "code",
      "execution_count": null,
      "metadata": {
        "id": "tvMDWKelKVKZ"
      },
      "outputs": [],
      "source": [
        "data.fillna(value=0,inplace=True)\n",
        "data.total_vaccinations=data.total_vaccinations.astype(int)\n",
        "data.people_vaccinated=data.people_vaccinated.astype(int)\n",
        "data.people_fully_vaccinated=data.people_fully_vaccinated.astype(int)\n",
        "data.daily_vaccinations_raw=data.daily_vaccinations_raw.astype(int)\n",
        "data.daily_vaccinations=data.daily_vaccinations.astype(int)\n",
        "data.total_vaccinations_per_hundred=data.total_vaccinations_per_hundred.astype(int)\n",
        "data.people_fully_vaccinated_per_hundred=data.people_fully_vaccinated_per_hundred.astype(int)\n",
        "print(data)"
      ]
    },
    {
      "cell_type": "code",
      "execution_count": null,
      "metadata": {
        "id": "V1CKRazkN-7S"
      },
      "outputs": [],
      "source": [
        "date=data.date.str.split('-',expand=True)\n",
        "print(data)"
      ]
    },
    {
      "cell_type": "code",
      "execution_count": null,
      "metadata": {
        "id": "hFzDNoM6Pms6"
      },
      "outputs": [],
      "source": [
        "data['year']=date[0]\n",
        "data['month']=date[1]\n",
        "data['day']=date[2]\n",
        "data.year=pd.to_numeric(data.year)\n",
        "data.month=pd.to_numeric(data.month)\n",
        "data.day=pd.to_numeric(data.day)\n",
        "data.date=pd.to_datetime(data.date)\n",
        "data.head()"
      ]
    },
    {
      "cell_type": "code",
      "execution_count": null,
      "metadata": {
        "id": "-65xgYX9Sxc2"
      },
      "outputs": [],
      "source": [
        "data.date=pd.to_datetime(data.date)\n",
        "data.head()"
      ]
    },
    {
      "cell_type": "code",
      "execution_count": null,
      "metadata": {
        "id": "-o6She7vUfSA"
      },
      "outputs": [],
      "source": [
        "print('data point starts from',data.date.min())\n",
        "print('data point ends at',data.date.max())\n",
        "print('total number of countries in the data set',len(data.country.unique()))\n",
        "print('total number of unique vaccines in the data set',len(data.vaccines.unique()))\n"
      ]
    },
    {
      "cell_type": "code",
      "execution_count": null,
      "metadata": {
        "id": "Sz3LiTH3V8Ej"
      },
      "outputs": [],
      "source": [
        "data.info()"
      ]
    },
    {
      "cell_type": "code",
      "execution_count": null,
      "metadata": {
        "id": "X2U2UUaYXUR3"
      },
      "outputs": [],
      "source": [
        "data.describe()"
      ]
    },
    {
      "cell_type": "code",
      "execution_count": null,
      "metadata": {
        "id": "3ZJdjBPWY07x"
      },
      "outputs": [],
      "source": [
        "data.country.unique()"
      ]
    },
    {
      "cell_type": "code",
      "execution_count": null,
      "metadata": {
        "id": "7nmvwtcjhKtu"
      },
      "outputs": [],
      "source": [
        "country_wise_total_vaccinated={}\n",
        "for country in data.country.unique() :\n",
        "  vaccinated = 0\n",
        "  for i in range(len(data)):\n",
        "    if data.country[i]==country:\n",
        "      vaccinated += data.daily_vaccinations[i]\n",
        "  country_wise_total_vaccinated[country]=vaccinated\n",
        "  country_wise_total_vaccinated_df=pd.DataFrame.from_dict(country_wise_total_vaccinated, orient='index',columns=['total_vaccinated_till_date'])\n",
        "country_wise_total_vaccinated_df.sort_values(by = 'total_vaccinated_till_date', ascending=False,inplace=True)\n",
        "country_wise_total_vaccinated_df"
      ]
    },
    {
      "cell_type": "code",
      "execution_count": null,
      "metadata": {
        "id": "d-KuR2PwrT0L"
      },
      "outputs": [],
      "source": [
        "fig= px.bar(country_wise_total_vaccinated_df,\n",
        "            y='total_vaccinated_till_date',\n",
        "            x= country_wise_total_vaccinated_df.index,\n",
        "            color='total_vaccinated_till_date',\n",
        "            color_discrete_sequence=px.colors.sequential.Viridis_r\n",
        "            )\n",
        "fig.update_layout(\n",
        "    title= {\n",
        "        'text':\"vaccination till date in various countires\",\n",
        "            'y':0.95,\n",
        "            'x':0.5\n",
        "        },\n",
        "    xaxis_title=\"Countries\",\n",
        "    yaxis_title=\"Total vaccinated\",\n",
        "    legend_title=\"Total vaccinated\"\n",
        ")\n",
        "fig.show()"
      ]
    },
    {
      "cell_type": "code",
      "execution_count": null,
      "metadata": {
        "id": "rcmCpr53zLj3"
      },
      "outputs": [],
      "source": [
        "fig=px.line(data,x='date',y= 'daily_vaccinations',color = 'country')\n",
        "fig.update_layout(\n",
        "    title= {\n",
        "        'text':\"vaccination till date in various countires\",\n",
        "            'y':0.95,\n",
        "            'x':0.5\n",
        "        },\n",
        "    xaxis_title=\"Date\",\n",
        "    yaxis_title=\"Daily vaccinations\"\n",
        ")\n",
        "fig.show()"
      ]
    },
    {
      "cell_type": "code",
      "execution_count": null,
      "metadata": {
        "id": "jOgNwrUAQS8T"
      },
      "outputs": [],
      "source": [
        "imputer=SimpleImputer(strategy='mean')\n",
        "x=np.array(data['people_vaccinated']).reshape(-1,1)\n",
        "y=np.array(data['daily_vaccinations']).reshape(-1,1)\n",
        "x_train,x_test,y_train,y_test=train_test_split(x,y,test_size=0.25)\n",
        "imputer.fit_transform(x_train)\n",
        "x_test=imputer.transform(x_test)\n",
        "print(x_test)"
      ]
    },
    {
      "cell_type": "code",
      "execution_count": null,
      "metadata": {
        "id": "GGqQrrFfTDpp"
      },
      "outputs": [],
      "source": [
        "data.fillna(value=0,inplace=True)\n",
        "data_encoded=pd.get_dummies(data,columns=['vaccines'])\n",
        "print(data_encoded.head())"
      ]
    },
    {
      "cell_type": "code",
      "execution_count": null,
      "metadata": {
        "id": "9dfbJQ3xVJf0"
      },
      "outputs": [],
      "source": [
        "x=np.array(data['people_fully_vaccinated']).reshape(-1,1)\n",
        "y=np.array(data['daily_vaccinations']).reshape(-1,1)\n",
        "x_train,x_test,y_test,y_test=train_test_split(x,y,test_size=0.25,random_state=42)\n",
        "plt.scatter(x_test,y_test,color='b')\n",
        "plt.show()"
      ]
    },
    {
      "cell_type": "code",
      "execution_count": null,
      "metadata": {
        "id": "E-UK05LZUZTp"
      },
      "outputs": [],
      "source": [
        "scaler=StandardScaler()\n",
        "scaler.fit(x)\n",
        "x_scaled=scaler.transform(x)\n",
        "print(x_scaled)\n",
        "x_scaled=scaler.fit_transform(x)\n",
        "print(x_scaled)"
      ]
    },
    {
      "cell_type": "code",
      "execution_count": null,
      "metadata": {
        "id": "WzIuTOG-rWOs"
      },
      "outputs": [],
      "source": [
        "mean_vaccination = data['total_vaccinations'].mean()\n",
        "median_vaccination= data['total_vaccinations'].median()\n",
        "std_vaccination = data['total_vaccinations'].std()\n",
        "print(f\"Mean Vaccination: {mean_vaccination}\")\n",
        "print(f\"Median Vaccination: {median_vaccination}\")\n",
        "print(f\"Standard Deviation of Vaccination : {std_vaccination}\")"
      ]
    },
    {
      "cell_type": "code",
      "execution_count": null,
      "metadata": {
        "id": "pPNF779Pw5FX"
      },
      "outputs": [],
      "source": [
        "mean_vaccination = data['people_vaccinated'].mean()\n",
        "median_vaccination= data['people_vaccinated'].median()\n",
        "std_vaccination = data['people_vaccinated'].std()\n",
        "print(f\"Mean Vaccination: {mean_vaccination}\")\n",
        "print(f\"Median Vaccination: {median_vaccination}\")\n",
        "print(f\"Standard Deviation of Vaccination : {std_vaccination}\")"
      ]
    },
    {
      "cell_type": "code",
      "execution_count": null,
      "metadata": {
        "id": "cJEyD4oJyCcI"
      },
      "outputs": [],
      "source": [
        "mean_vaccination = data['daily_vaccinations'].mean()\n",
        "median_vaccination= data['daily_vaccinations'].median()\n",
        "std_vaccination = data['daily_vaccinations'].std()\n",
        "print(f\"Mean Vaccination: {mean_vaccination}\")\n",
        "print(f\"Median Vaccination: {median_vaccination}\")\n",
        "print(f\"Standard Deviation of Vaccination : {std_vaccination}\")"
      ]
    },
    {
      "cell_type": "code",
      "execution_count": null,
      "metadata": {
        "id": "DG_Xo4UwyDpr"
      },
      "outputs": [],
      "source": [
        "from scipy import stats\n",
        "country_A = data[data['country'] == 'country_A']['total_vaccinations']\n",
        "country_B = data[data['country'] == 'country_B']['total_vaccinations']\n",
        "t_stat, p_value = stats.ttest_ind(country_A, country_B)\n",
        "if p_value < 0.05:\n",
        " print(\"There is a significant difference between the two countries.\")\n",
        "else:\n",
        " print(\"There is no significant difference between the two countries.\")"
      ]
    },
    {
      "cell_type": "code",
      "execution_count": null,
      "metadata": {
        "id": "rKUTXzQQ6GhI"
      },
      "outputs": [],
      "source": [
        "plt.figure(figsize=(12,6))\n",
        "sns.lineplot(data=data , x='vaccines',y='total_vaccinations')\n",
        "plt.title('COVID-19 Vaccination')\n",
        "plt.xlabel('vaccines')\n",
        "plt.ylabel('total_vaccinations')\n",
        "plt.xticks(rotation=90)\n",
        "plt.show()"
      ]
    },
    {
      "cell_type": "code",
      "execution_count": null,
      "metadata": {
        "id": "Ix4RsmASy4Ji"
      },
      "outputs": [],
      "source": [
        "plt.figure(figsize=(12,6))\n",
        "sns.barplot(data=data , x='vaccines',y='total_vaccinations',palette='viridis')\n",
        "plt.title('COVID-19 Vaccination total by country')\n",
        "plt.xlabel('vaccines')\n",
        "plt.ylabel('total_vaccinations')\n",
        "plt.xticks(rotation=90)\n",
        "plt.show()"
      ]
    },
    {
      "cell_type": "code",
      "execution_count": null,
      "metadata": {
        "id": "62Xbm6p-1mZ7"
      },
      "outputs": [],
      "source": [
        "vaccine_type_counts = data['vaccines'].value_counts()\n",
        "plt.figure(figsize=(8,8))\n",
        "plt.pie(vaccine_type_counts,labels = vaccine_type_counts.index ,autopct='%1.1f%%',startangle = 140)\n",
        "plt.title('vaccine Type Distribution')\n",
        "plt.show()"
      ]
    },
    {
      "cell_type": "code",
      "execution_count": null,
      "metadata": {
        "id": "CU2ghyjf8fi2"
      },
      "outputs": [],
      "source": []
    }
  ],
  "metadata": {
    "colab": {
      "provenance": [],
      "authorship_tag": "ABX9TyPGtCy4wU2wBOzNSJDzKMZw",
      "include_colab_link": true
    },
    "kernelspec": {
      "display_name": "Python 3",
      "name": "python3"
    },
    "language_info": {
      "name": "python"
    }
  },
  "nbformat": 4,
  "nbformat_minor": 0
}